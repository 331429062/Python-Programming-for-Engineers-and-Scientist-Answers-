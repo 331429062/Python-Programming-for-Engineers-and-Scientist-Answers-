{
 "cells": [
  {
   "cell_type": "code",
   "execution_count": 2,
   "id": "3f5057e5",
   "metadata": {},
   "outputs": [
    {
     "name": "stdout",
     "output_type": "stream",
     "text": [
      "30\n"
     ]
    }
   ],
   "source": [
    "#Problem 1\n",
    "num = int(input(\"Enter an integer: \"))\n",
    "total = 0\n",
    "\n",
    "for i in range (1, num+1):\n",
    "    total += i**2\n",
    "\n",
    "print(total)\n"
   ]
  },
  {
   "cell_type": "code",
   "execution_count": null,
   "id": "8572d6f1",
   "metadata": {},
   "outputs": [
    {
     "name": "stdout",
     "output_type": "stream",
     "text": [
      "********************\n",
      "*                  *\n",
      "*                  *\n",
      "*                  *\n",
      "*                  *\n",
      "*                  *\n",
      "*                  *\n",
      "*                  *\n",
      "*                  *\n",
      "*                  *\n",
      "*                  *\n",
      "*                  *\n",
      "*                  *\n",
      "*                  *\n",
      "*                  *\n",
      "*                  *\n",
      "*                  *\n",
      "********************\n",
      "\n"
     ]
    }
   ],
   "source": [
    "#Problem 2\n",
    "\n",
    "length = int(input(\"input length: \")) \n",
    "width  = int(input(\"input width: \"))\n",
    "\n",
    "for i in range(1, length+1):\n",
    "    if i == 1 or i == length:\n",
    "        print(\"*\"*width)\n",
    "    else:\n",
    "        print(\"*\"+\" \"*(width-2)+\"*\")\n",
    "    \n",
    "print()\n"
   ]
  },
  {
   "cell_type": "code",
   "execution_count": 9,
   "id": "03b9a17d",
   "metadata": {},
   "outputs": [
    {
     "name": "stdout",
     "output_type": "stream",
     "text": [
      "3.1415925535897915\n"
     ]
    }
   ],
   "source": [
    "#Problem 3\n",
    "\n",
    "start_num = 3\n",
    "output = 1-(1/3)\n",
    "\n",
    "\n",
    "for i in range (2, 10000000):\n",
    "    if i % 2 == 0:\n",
    "        start_num += 2\n",
    "        output += (1/(start_num))\n",
    "    elif i % 2 != 0:\n",
    "        start_num += 2\n",
    "        output -= (1/(start_num))\n",
    "\n",
    "output *= 4\n",
    "\n",
    "print(output)\n",
    "\n"
   ]
  },
  {
   "cell_type": "code",
   "execution_count": null,
   "id": "fd87c42f",
   "metadata": {},
   "outputs": [
    {
     "name": "stdout",
     "output_type": "stream",
     "text": [
      "3025\n"
     ]
    }
   ],
   "source": [
    "#Problem 4\n",
    "\n",
    "result  = 0\n",
    "\n",
    "for i in range(1, 11):\n",
    "    result += i**3\n",
    "\n",
    "print(result)\n"
   ]
  },
  {
   "cell_type": "code",
   "execution_count": null,
   "id": "bb12b416",
   "metadata": {},
   "outputs": [
    {
     "name": "stdout",
     "output_type": "stream",
     "text": [
      "iteration: 13, final result: 20.08521256087662\n"
     ]
    }
   ],
   "source": [
    "#Problem 5\n",
    "import math \n",
    "\n",
    "real = 20.0855369\n",
    "tol = 0.001\n",
    "count = 1\n",
    "result = 1\n",
    "count = 1\n",
    "\n",
    "while True:\n",
    "    result += (3 ** count)/(math.factorial(count))\n",
    "    count += 1\n",
    "    if math.fabs(real-result) < tol:\n",
    "        break\n",
    "\n",
    "print(f\"iteration: {count}, final result: {result}\")"
   ]
  },
  {
   "cell_type": "code",
   "execution_count": null,
   "id": "e7db6a97",
   "metadata": {},
   "outputs": [],
   "source": [
    "#Problem 6\n",
    "\n",
    "num1 = int(input(\"Enter a negative integer: \"))\n",
    "\n",
    "while True:\n",
    "\n",
    "    if num1 > 0:\n",
    "         num1 = int(input(\"Enter a negative integer: \"))\n",
    "    else:\n",
    "         break"
   ]
  },
  {
   "cell_type": "code",
   "execution_count": null,
   "id": "b63be0ae",
   "metadata": {},
   "outputs": [
    {
     "name": "stdout",
     "output_type": "stream",
     "text": [
      "2\n",
      "3\n",
      "4\n",
      "7\n",
      "8\n",
      "9\n",
      "10\n",
      "11\n",
      "12\n",
      "13\n",
      "14\n",
      "17\n",
      "18\n",
      "19\n",
      "20\n"
     ]
    }
   ],
   "source": [
    "# Problem 7\n",
    "\n",
    "lst = [1, 5, 6, 15, 16]\n",
    "\n",
    "for i in range(1,21):\n",
    "    if i in lst :\n",
    "        continue\n",
    "    else:\n",
    "         print(i)\n"
   ]
  },
  {
   "cell_type": "code",
   "execution_count": 12,
   "id": "a6c7df63",
   "metadata": {},
   "outputs": [
    {
     "name": "stdout",
     "output_type": "stream",
     "text": [
      "9\n",
      "6\n",
      "8\n",
      "6\n",
      "7\n",
      "7\n",
      "12\n",
      "4\n",
      "7\n",
      "2\n",
      "7\n",
      "7\n",
      "10\n"
     ]
    }
   ],
   "source": [
    "#Problem 8\n",
    "\n",
    "import random\n",
    "\n",
    "while True:\n",
    "    dice1 = random.randint(1, 6)\n",
    "    dice2 = random.randint(1, 6)\n",
    "    total = dice1 + dice2\n",
    "\n",
    "    print(total)\n",
    "\n",
    "    if total == 10:\n",
    "        break\n",
    "\n"
   ]
  }
 ],
 "metadata": {
  "kernelspec": {
   "display_name": "Python 3",
   "language": "python",
   "name": "python3"
  },
  "language_info": {
   "codemirror_mode": {
    "name": "ipython",
    "version": 3
   },
   "file_extension": ".py",
   "mimetype": "text/x-python",
   "name": "python",
   "nbconvert_exporter": "python",
   "pygments_lexer": "ipython3",
   "version": "3.13.2"
  }
 },
 "nbformat": 4,
 "nbformat_minor": 5
}
