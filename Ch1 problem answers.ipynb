{
 "cells": [
  {
   "cell_type": "code",
   "execution_count": null,
   "id": "da73ccf7",
   "metadata": {},
   "outputs": [],
   "source": [
    "import math"
   ]
  },
  {
   "cell_type": "code",
   "execution_count": null,
   "id": "62f4e3f9",
   "metadata": {},
   "outputs": [
    {
     "name": "stdout",
     "output_type": "stream",
     "text": [
      "Problem 1: 23.187630304471895\n"
     ]
    }
   ],
   "source": [
    "# Problem 1\n",
    "y = math.sin(math.pi / 3) + math.sqrt(5) + math.exp(3)\n",
    "print(\"Problem 1:\", y)"
   ]
  },
  {
   "cell_type": "code",
   "execution_count": null,
   "id": "0c2cfc8b",
   "metadata": {},
   "outputs": [],
   "source": [
    "# Problem 2 & 3\n",
    "# iskeyword() is used to check if a string is a built-in keyword in Python.\n",
    "# isidentifier() is used to check if a string is a valid identifier in Python. (variable)\n",
    "# Only My_Journey can be a valid identifier."
   ]
  },
  {
   "cell_type": "code",
   "execution_count": null,
   "id": "194978e7",
   "metadata": {},
   "outputs": [
    {
     "name": "stdout",
     "output_type": "stream",
     "text": [
      "Problem 4: 4.8\n"
     ]
    }
   ],
   "source": [
    "# Problem 4\n",
    "m, F = 5, 24\n",
    "a = F / m\n",
    "print(\"Problem 4:\", a)"
   ]
  },
  {
   "cell_type": "code",
   "execution_count": null,
   "id": "e87ff59b",
   "metadata": {},
   "outputs": [
    {
     "name": "stdout",
     "output_type": "stream",
     "text": [
      "Problem 5: Europe Continent is Nice\n"
     ]
    }
   ],
   "source": [
    "# Problem 5\n",
    "St1 = \"Paris is in Europe\"\n",
    "St2 = \"This Nice Continent\"\n",
    "print(\"Problem 5:\", St1[-6:], St2[-9:], St1[6:8], St2[5:9])"
   ]
  },
  {
   "cell_type": "code",
   "execution_count": null,
   "id": "c2caea36",
   "metadata": {},
   "outputs": [],
   "source": [
    "# Problem 6\n",
    "# Error"
   ]
  },
  {
   "cell_type": "code",
   "execution_count": null,
   "id": "b6f38673",
   "metadata": {},
   "outputs": [
    {
     "name": "stdout",
     "output_type": "stream",
     "text": [
      "Problem 7: [17, 61, 'Table', 1900]\n"
     ]
    }
   ],
   "source": [
    "# Problem 7\n",
    "List1 = [17, 61, 'Table']\n",
    "List1.insert(3, 1900)\n",
    "print(\"Problem 7:\", List1)"
   ]
  },
  {
   "cell_type": "code",
   "execution_count": null,
   "id": "df79c394",
   "metadata": {},
   "outputs": [
    {
     "name": "stdout",
     "output_type": "stream",
     "text": [
      "Problem 8: 40\n"
     ]
    }
   ],
   "source": [
    "# Problem 8\n",
    "dic = {'Name': 'Alex', 'Lesson': 'PE', 'Age': 40}\n",
    "\n",
    "age = dic.get('Age')\n",
    "print(\"Problem 8:\", age)"
   ]
  },
  {
   "cell_type": "code",
   "execution_count": null,
   "id": "9af76801",
   "metadata": {},
   "outputs": [
    {
     "data": {
      "text/plain": [
       "5"
      ]
     },
     "execution_count": 17,
     "metadata": {},
     "output_type": "execute_result"
    }
   ],
   "source": [
    "# Problem 9\n",
    "# (2**5)//6 is equvalent to 2^5 // 6\n",
    "2**5 // 6"
   ]
  },
  {
   "cell_type": "code",
   "execution_count": null,
   "id": "b92bc3a6",
   "metadata": {},
   "outputs": [
    {
     "data": {
      "text/plain": [
       "0"
      ]
     },
     "execution_count": 15,
     "metadata": {},
     "output_type": "execute_result"
    }
   ],
   "source": [
    "# Problem 10\n",
    "10 % 5"
   ]
  },
  {
   "cell_type": "code",
   "execution_count": null,
   "id": "656d6aa5",
   "metadata": {},
   "outputs": [
    {
     "name": "stdout",
     "output_type": "stream",
     "text": [
      "Problem 11: 3.1415926536\n"
     ]
    }
   ],
   "source": [
    "# Problem 11\n",
    "# no space in the string one with 5 decimal places and one with 10\n",
    "print(\"Problem 11:\", \"{:0.10f}\".format(math.pi))"
   ]
  }
 ],
 "metadata": {
  "kernelspec": {
   "display_name": "Python 3",
   "language": "python",
   "name": "python3"
  },
  "language_info": {
   "codemirror_mode": {
    "name": "ipython",
    "version": 3
   },
   "file_extension": ".py",
   "mimetype": "text/x-python",
   "name": "python",
   "nbconvert_exporter": "python",
   "pygments_lexer": "ipython3",
   "version": "3.13.2"
  }
 },
 "nbformat": 4,
 "nbformat_minor": 5
}
