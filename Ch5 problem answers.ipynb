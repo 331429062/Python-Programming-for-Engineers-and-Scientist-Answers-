{
 "cells": [
  {
   "cell_type": "code",
   "execution_count": 11,
   "id": "6d22ae0d",
   "metadata": {},
   "outputs": [
    {
     "name": "stdout",
     "output_type": "stream",
     "text": [
      "50 48 49 55 32 105 115 32 97 32 110 105 99 101 32 121 101 97 114\n"
     ]
    }
   ],
   "source": [
    "#Problem 1\n",
    "string_sentence = \"2017 is a nice year\"\n",
    "correspond = []\n",
    "\n",
    "\n",
    "for char in string_sentence:\n",
    "    correspond.append (str(ord(char)))\n",
    "\n",
    "answer = \" \".join(correspond)\n",
    "\n",
    "print(answer)"
   ]
  },
  {
   "cell_type": "code",
   "execution_count": 17,
   "id": "9a2a7a7f",
   "metadata": {},
   "outputs": [
    {
     "name": "stdout",
     "output_type": "stream",
     "text": [
      "Wa,bo,in,Sa,An\n"
     ]
    }
   ],
   "source": [
    "#Problem 2\n",
    "string_sentence = \"Was born in San Antonio\"\n",
    "lst = string_sentence.split()\n",
    "lst2 = []\n",
    "\n",
    "\n",
    "for char in lst:\n",
    "    lst2.append(char[:2])\n",
    "\n",
    "answer = \",\".join(lst2)\n",
    "\n",
    "print(answer)\n"
   ]
  },
  {
   "cell_type": "code",
   "execution_count": 20,
   "id": "d5270730",
   "metadata": {},
   "outputs": [
    {
     "name": "stdout",
     "output_type": "stream",
     "text": [
      "[(1, 'Item'), (50, 'Another'), (50, 'LastItem'), (60, 'List')]\n",
      "[('Another', 50), ('Item', 1), ('LastItem', 50), ('List', 60)]\n"
     ]
    }
   ],
   "source": [
    "#Problem 3\n",
    "dic = {'LastItem':50, 'Item':1, 'List':60, 'Another':50}\n",
    "\n",
    "sorting1 = zip(dic.values(), dic.keys())\n",
    "sorting2 = zip(dic.keys(), dic.values())\n",
    "\n",
    "print(sorted(sorting1))\n",
    "print(sorted(sorting2))"
   ]
  },
  {
   "cell_type": "code",
   "execution_count": null,
   "id": "95ff021d",
   "metadata": {},
   "outputs": [
    {
     "name": "stdout",
     "output_type": "stream",
     "text": [
      "N%|nqq%gj%|twpnsl%ymnx%xzrrjw\n",
      "I will be working this summer\n"
     ]
    }
   ],
   "source": [
    "#Problem 4\n",
    "string_sentence = \"I will be working this summer\"\n",
    "steps = 5\n",
    "\n",
    "#encrypts:\n",
    "encrypts = \"\"\n",
    "for chars in string_sentence:\n",
    "    encrypts += chr(ord(chars) + steps)\n",
    "\n",
    "print(encrypts)\n",
    "\n",
    "#decrypts:\n",
    "decrypts = \"\"\n",
    "for chars in encrypts:\n",
    "    decrypts += chr(ord(chars) - steps)\n",
    "\n",
    "print(decrypts)\n"
   ]
  },
  {
   "cell_type": "code",
   "execution_count": 32,
   "id": "185cb2c5",
   "metadata": {},
   "outputs": [
    {
     "name": "stdout",
     "output_type": "stream",
     "text": [
      "[1, 2, 3, 4, 5, 6, 7, 8, 9, 10, 'Tomato', 'CA', 'Diego', 2100]\n"
     ]
    }
   ],
   "source": [
    "#Problem 5\n",
    "\n",
    "lst1 = list(range(1, 11))\n",
    "lst2 = ['Tomato', 'CA', 'Diego', 2100]\n",
    "lst3 = lst1 + lst2\n",
    "\n",
    "print(lst3)"
   ]
  }
 ],
 "metadata": {
  "kernelspec": {
   "display_name": "Python 3",
   "language": "python",
   "name": "python3"
  },
  "language_info": {
   "codemirror_mode": {
    "name": "ipython",
    "version": 3
   },
   "file_extension": ".py",
   "mimetype": "text/x-python",
   "name": "python",
   "nbconvert_exporter": "python",
   "pygments_lexer": "ipython3",
   "version": "3.13.2"
  }
 },
 "nbformat": 4,
 "nbformat_minor": 5
}
