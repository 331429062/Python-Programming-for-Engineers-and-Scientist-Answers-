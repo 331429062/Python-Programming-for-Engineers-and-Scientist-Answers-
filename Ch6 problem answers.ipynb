{
 "cells": [
  {
   "cell_type": "code",
   "execution_count": 3,
   "id": "0daef74d",
   "metadata": {},
   "outputs": [
    {
     "name": "stdout",
     "output_type": "stream",
     "text": [
      "Hello Folks!\n",
      "Hello Folks!\n"
     ]
    }
   ],
   "source": [
    "#Problem 1\n",
    "\n",
    "def greeting():\n",
    "    print(\"Hello Folks!\")\n",
    "\n",
    "greeting()\n",
    "greeting()"
   ]
  },
  {
   "cell_type": "code",
   "execution_count": 4,
   "id": "7c2d9088",
   "metadata": {},
   "outputs": [
    {
     "name": "stdout",
     "output_type": "stream",
     "text": [
      "15\n"
     ]
    }
   ],
   "source": [
    "#Problem 2\n",
    "\n",
    "def add_five(num):\n",
    "    return num + 5\n",
    "\n",
    "print(add_five(10))"
   ]
  },
  {
   "cell_type": "code",
   "execution_count": 8,
   "id": "ee5d9a20",
   "metadata": {},
   "outputs": [
    {
     "name": "stdout",
     "output_type": "stream",
     "text": [
      "Image downloaded and saved as downloaded_image.jpg\n"
     ]
    }
   ],
   "source": [
    "#Problem 3\n",
    "import requests\n",
    "\n",
    "def download(url):\n",
    "\n",
    "    response = requests.get(url)\n",
    "    response.raise_for_status()   # make sure the request succeeded\n",
    "\n",
    "# Open a local file in binary-write mode, and write response.content\n",
    "    with open('downloaded_image.jpg', 'wb') as f:\n",
    "        f.write(response.content)\n",
    "\n",
    "    print(\"Image downloaded and saved as downloaded_image.jpg\")\n",
    "\n",
    "download(\"https://tamashiiweb.com/img/grand_index/gundam_oo_rc/20220317_img_main.jpg\")"
   ]
  },
  {
   "cell_type": "code",
   "execution_count": 12,
   "id": "1213516c",
   "metadata": {},
   "outputs": [
    {
     "name": "stdout",
     "output_type": "stream",
     "text": [
      "area = 20, perimeter = 9\n",
      "area = 42, perimeter = 13\n"
     ]
    }
   ],
   "source": [
    "#Problem 4\n",
    "\n",
    "def area_perimeter(x = 4, y = 5):\n",
    "    area = x * y\n",
    "    perimeter = x + y\n",
    "    print(f\"area = {area}, perimeter = {perimeter}\")\n",
    "\n",
    "area_perimeter()\n",
    "area_perimeter(6, 7)"
   ]
  },
  {
   "cell_type": "code",
   "execution_count": 17,
   "id": "744864fe",
   "metadata": {},
   "outputs": [
    {
     "name": "stdout",
     "output_type": "stream",
     "text": [
      "Product result is 1\n",
      "Product result is 120\n",
      "Product result is 517.44\n"
     ]
    }
   ],
   "source": [
    "#Problem 5\n",
    "\n",
    "def product(*num):\n",
    "    result = 1\n",
    "    for i in num:\n",
    "        result *= i\n",
    "    \n",
    "    print(f\"Product result is {result}\")\n",
    "\n",
    "product()\n",
    "product(1,2,3,4,5)\n",
    "product(2.2,2.4,9.8,10)"
   ]
  }
 ],
 "metadata": {
  "kernelspec": {
   "display_name": "Python 3",
   "language": "python",
   "name": "python3"
  },
  "language_info": {
   "codemirror_mode": {
    "name": "ipython",
    "version": 3
   },
   "file_extension": ".py",
   "mimetype": "text/x-python",
   "name": "python",
   "nbconvert_exporter": "python",
   "pygments_lexer": "ipython3",
   "version": "3.13.2"
  }
 },
 "nbformat": 4,
 "nbformat_minor": 5
}
