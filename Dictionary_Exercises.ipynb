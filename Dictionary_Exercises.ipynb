{
 "cells": [
  {
   "cell_type": "code",
   "execution_count": null,
   "id": "f4cf9f3e",
   "metadata": {},
   "outputs": [
    {
     "name": "stdout",
     "output_type": "stream",
     "text": [
      "{}\n"
     ]
    }
   ],
   "source": [
    "# Problem 1\n",
    "\n",
    "captains = dict()\n",
    "print(captains)"
   ]
  },
  {
   "cell_type": "code",
   "execution_count": 3,
   "id": "b88ca510",
   "metadata": {},
   "outputs": [
    {
     "name": "stdout",
     "output_type": "stream",
     "text": [
      "{'Enterprise': 'Picard', 'Voyager': 'Janeway', 'Defiant': 'Sisko'}\n"
     ]
    }
   ],
   "source": [
    "# Problem 2\n",
    "\n",
    "captains['Enterprise'] = 'Picard'\n",
    "captains['Voyager'] = 'Janeway'\n",
    "captains['Defiant'] = 'Sisko'\n",
    "\n",
    "print(captains)"
   ]
  },
  {
   "cell_type": "code",
   "execution_count": 9,
   "id": "588afb70",
   "metadata": {},
   "outputs": [
    {
     "name": "stdout",
     "output_type": "stream",
     "text": [
      "{'Enterprise': 'Picard', 'Voyager': 'Janeway', 'Defiant': 'Sisko', 'Discovery': 'unknown'}\n"
     ]
    }
   ],
   "source": [
    "# Problem 3\n",
    "\n",
    "if 'Enterprise' not in captains:\n",
    "    captains['Enterprise'] = 'unknown'\n",
    "\n",
    "if 'Discovery' not in captains:\n",
    "    captains['Discovery'] = 'unknown'\n",
    "\n",
    "print(captains)\n"
   ]
  },
  {
   "cell_type": "code",
   "execution_count": 11,
   "id": "f9b2e7b4",
   "metadata": {},
   "outputs": [
    {
     "name": "stdout",
     "output_type": "stream",
     "text": [
      "The Enterprise is captained by Picard\n",
      "The Voyager is captained by Janeway\n",
      "The Defiant is captained by Sisko\n",
      "The Discovery is captained by unknown\n"
     ]
    }
   ],
   "source": [
    "# Problem 4\n",
    "\n",
    "for keys, values in captains.items():\n",
    "    print(f\"The {keys} is captained by {values}\")"
   ]
  },
  {
   "cell_type": "code",
   "execution_count": 12,
   "id": "9d4d28e5",
   "metadata": {},
   "outputs": [
    {
     "name": "stdout",
     "output_type": "stream",
     "text": [
      "{'Enterprise': 'Picard', 'Voyager': 'Janeway', 'Defiant': 'Sisko'}\n"
     ]
    }
   ],
   "source": [
    "# Problem 5\n",
    "\n",
    "del captains['Discovery']\n",
    "print(captains)"
   ]
  },
  {
   "cell_type": "code",
   "execution_count": 14,
   "id": "26586ada",
   "metadata": {},
   "outputs": [
    {
     "name": "stdout",
     "output_type": "stream",
     "text": [
      "{'Enterprise': 'Picard', 'Voyager': 'Janeway', 'Defiant': 'Sisko'}\n"
     ]
    }
   ],
   "source": [
    "# Problem 6\n",
    "\n",
    "captains2 = dict(Enterprise ='Picard', Voyager ='Janeway', Defiant ='Sisko')\n",
    "print(captains2)"
   ]
  }
 ],
 "metadata": {
  "kernelspec": {
   "display_name": "Python 3",
   "language": "python",
   "name": "python3"
  },
  "language_info": {
   "codemirror_mode": {
    "name": "ipython",
    "version": 3
   },
   "file_extension": ".py",
   "mimetype": "text/x-python",
   "name": "python",
   "nbconvert_exporter": "python",
   "pygments_lexer": "ipython3",
   "version": "3.13.2"
  }
 },
 "nbformat": 4,
 "nbformat_minor": 5
}
